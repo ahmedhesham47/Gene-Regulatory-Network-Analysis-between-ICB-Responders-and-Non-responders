{
  "nbformat": 4,
  "nbformat_minor": 0,
  "metadata": {
    "colab": {
      "provenance": [],
      "gpuType": "T4",
      "authorship_tag": "ABX9TyOTJVW61DSo0MY7107WNfRz",
      "include_colab_link": true
    },
    "kernelspec": {
      "name": "ir",
      "display_name": "R"
    },
    "language_info": {
      "name": "R"
    },
    "accelerator": "GPU"
  },
  "cells": [
    {
      "cell_type": "markdown",
      "metadata": {
        "id": "view-in-github",
        "colab_type": "text"
      },
      "source": [
        "<a href=\"https://colab.research.google.com/github/ahmedhesham47/Systems-Biology/blob/main/GENIE3.ipynb\" target=\"_parent\"><img src=\"https://colab.research.google.com/assets/colab-badge.svg\" alt=\"Open In Colab\"/></a>"
      ]
    },
    {
      "cell_type": "code",
      "execution_count": null,
      "metadata": {
        "id": "D2E5NR9LtPoo"
      },
      "outputs": [],
      "source": [
        "if (!require(\"BiocManager\", quietly = TRUE))\n",
        "  install.packages(\"BiocManager\")\n",
        "\n",
        "BiocManager::install(\"GENIE3\")"
      ]
    },
    {
      "cell_type": "code",
      "source": [
        "install.packages(\"doParallel\")"
      ],
      "metadata": {
        "id": "NMEE5XHXujyF"
      },
      "execution_count": null,
      "outputs": []
    },
    {
      "cell_type": "code",
      "source": [
        "install.packages(\"doRNG\")"
      ],
      "metadata": {
        "id": "wWF-MJWTupEe"
      },
      "execution_count": null,
      "outputs": []
    },
    {
      "cell_type": "code",
      "source": [
        "library(GENIE3)\n",
        "\n",
        "ravi_1 <- read.table('ravi_1_filtered.tsv', header = TRUE, sep = \"\\t\", row.names = 1)\n",
        "\n",
        "ravi_0 <- read.table('ravi_0_filtered.tsv', header = TRUE, sep = \"\\t\", row.names = 1)\n",
        "\n",
        "ravi_1_mat <- as.matrix(ravi_1)\n",
        "\n",
        "ravi_0_mat <- as.matrix(ravi_0)"
      ],
      "metadata": {
        "id": "CpiBSD3Ftpse"
      },
      "execution_count": null,
      "outputs": []
    },
    {
      "cell_type": "code",
      "source": [
        "# For reproducibility\n",
        "set.seed(123)\n",
        "\n",
        "# Run GENIE3 on the matrix\n",
        "responders_gene_network <- GENIE3(ravi_1_mat, verbose = TRUE)\n",
        "\n",
        "non_responders_gene_network <- GENIE3(ravi_0_mat, verbose = TRUE)"
      ],
      "metadata": {
        "id": "Q3rzypCHtr1u"
      },
      "execution_count": null,
      "outputs": []
    },
    {
      "cell_type": "code",
      "source": [
        "linkList_responders <- getLinkList(responders_gene_network, reportMax = 50)\n",
        "linkList_non_responders <- getLinkList(non_responders_gene_network, reportMax = 50)"
      ],
      "metadata": {
        "id": "uIhXCkJJEMTx"
      },
      "execution_count": null,
      "outputs": []
    },
    {
      "cell_type": "code",
      "source": [
        "write.table(linkList_responders, file = \"regulatory_network_responders.tsv\", sep = \"\\t\", row.names = FALSE)\n",
        "write.table(linkList_non_responders, file = \"regulatory_network_non_responders.tsv\", sep = \"\\t\", row.names = FALSE)"
      ],
      "metadata": {
        "id": "lJrlXg6oEX8Z"
      },
      "execution_count": null,
      "outputs": []
    }
  ]
}