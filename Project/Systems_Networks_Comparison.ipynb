{
  "nbformat": 4,
  "nbformat_minor": 0,
  "metadata": {
    "colab": {
      "provenance": [],
      "authorship_tag": "ABX9TyPrpUMwU9ZFulZY8dv9zLS3",
      "include_colab_link": true
    },
    "kernelspec": {
      "name": "python3",
      "display_name": "Python 3"
    },
    "language_info": {
      "name": "python"
    }
  },
  "cells": [
    {
      "cell_type": "markdown",
      "metadata": {
        "id": "view-in-github",
        "colab_type": "text"
      },
      "source": [
        "<a href=\"https://colab.research.google.com/github/ahmedhesham47/Systems-Biology/blob/main/Systems_Networks_Comparison.ipynb\" target=\"_parent\"><img src=\"https://colab.research.google.com/assets/colab-badge.svg\" alt=\"Open In Colab\"/></a>"
      ]
    },
    {
      "cell_type": "code",
      "execution_count": 3,
      "metadata": {
        "id": "hA6YQxF95yrd"
      },
      "outputs": [],
      "source": [
        "import numpy as np\n",
        "import pandas as pd\n",
        "import csv"
      ]
    },
    {
      "cell_type": "code",
      "source": [
        "pd1_network = pd.read_csv('PD_1_network.tsv', sep='\\t')\n",
        "pd1_degree = pd.read_csv('PD_1_degree.tsv', sep='\\t')\n",
        "pd1_pathways = pd.read_csv('PD_1_RCTM.tsv', sep='\\t')\n",
        "\n",
        "pdL1_network = pd.read_csv('PD_L1_network.tsv', sep='\\t')\n",
        "pdL1_degree = pd.read_csv('PD_L1_degree.tsv', sep='\\t')\n",
        "pdL1_pathways = pd.read_csv('PD_L1_RCTM.tsv', sep='\\t')\n",
        "\n",
        "ctla4_network = pd.read_csv('CTLA_4_network.tsv', sep='\\t')\n",
        "ctla4_degree = pd.read_csv('CTLA_4_degree.tsv', sep='\\t')\n",
        "ctla4_pathways = pd.read_csv('CTLA_4_RCTM.tsv', sep='\\t')\n",
        "\n",
        "cd80_network = pd.read_csv('CD80_network.tsv', sep='\\t')\n",
        "cd80_degree = pd.read_csv('CD80_degree.tsv', sep='\\t')\n",
        "cd80_pathways = pd.read_csv('CD80_RCTM.tsv', sep='\\t')\n",
        "\n",
        "mrna = pd.read_csv('mrna_cont.tsv', sep='\\t')\n",
        "labels = pd.read_csv('labels_df.tsv', sep='\\t')"
      ],
      "metadata": {
        "id": "nBWXEfxGraa2"
      },
      "execution_count": 62,
      "outputs": []
    },
    {
      "cell_type": "code",
      "source": [
        "pd1_network = pd1_network[['#node1', 'node2']]\n",
        "pdL1_network = pdL1_network[['#node1', 'node2']]\n",
        "ctla4_network = ctla4_network[['#node1', 'node2']]\n",
        "cd80_network = cd80_network[['#node1', 'node2']]\n",
        "\n",
        "pd1_degree = pd1_degree[['#node', 'node_degree']]\n",
        "pdL1_degree = pdL1_degree[['#node', 'node_degree']]\n",
        "ctla4_degree = ctla4_degree[['#node', 'node_degree']]\n",
        "cd80_degree = cd80_degree[['#node', 'node_degree']]"
      ],
      "metadata": {
        "id": "8sHxmwcptsio"
      },
      "execution_count": 33,
      "outputs": []
    },
    {
      "cell_type": "code",
      "source": [
        "def find_common_interactions(list_of_dataframes):\n",
        "    tuple_sets = []\n",
        "\n",
        "    for df in list_of_dataframes:\n",
        "        tuples = {tuple(sorted(row)) for row in df.to_numpy()}\n",
        "        tuple_sets.append(tuples)\n",
        "\n",
        "    common_tuples = set.intersection(*tuple_sets)\n",
        "\n",
        "    return list(common_tuples)"
      ],
      "metadata": {
        "id": "ZAJw9RcQqgbB"
      },
      "execution_count": 4,
      "outputs": []
    },
    {
      "cell_type": "code",
      "source": [
        "def find_common_in_col(list_of_dataframes, column_name):\n",
        "    columns = []\n",
        "\n",
        "    for df in list_of_dataframes:\n",
        "        if column_name in df.columns:\n",
        "            columns.append(set(df[column_name]))\n",
        "\n",
        "    common_values = set.intersection(*columns)\n",
        "\n",
        "    return list(common_values)"
      ],
      "metadata": {
        "id": "N-Ss5KFjqyx4"
      },
      "execution_count": 29,
      "outputs": []
    },
    {
      "cell_type": "code",
      "source": [
        "def find_common_hubs(list_of_dataframes):\n",
        "\n",
        "    top_nodes_sets = []\n",
        "\n",
        "    for df in list_of_dataframes:\n",
        "        sorted_df = df.sort_values(by='node_degree', ascending=False).head(10)\n",
        "        top_nodes = set(sorted_df['#node'])\n",
        "        top_nodes_sets.append(top_nodes)\n",
        "\n",
        "    common_nodes = set.intersection(*top_nodes_sets)\n",
        "\n",
        "    return list(common_nodes)"
      ],
      "metadata": {
        "id": "9AGk0InJq16p"
      },
      "execution_count": 41,
      "outputs": []
    },
    {
      "cell_type": "code",
      "source": [
        "def split_and_transpose(expression_df, labels_df, label_column_name):\n",
        "  expression_df = expression_df.set_index('Sample Identifier')\n",
        "  labels_df = labels_df.set_index('Sample Identifier')\n",
        "\n",
        "  expression_1 = expression_df.loc[labels_df['ICB Response'] == 1.0].transpose().reset_index()\n",
        "  expression_1.columns.name = None\n",
        "  expression_1 = expression_1.rename(columns={'index': 'Gene'})\n",
        "\n",
        "  expression_0 = expression_df.loc[labels_df['ICB Response'] == 0.0].transpose().reset_index()\n",
        "  expression_0.columns.name = None\n",
        "  expression_0 = expression_0.rename(columns={'index': 'Gene'})\n",
        "\n",
        "  return expression_1, expression_0"
      ],
      "metadata": {
        "id": "3QzF-L2L4opz"
      },
      "execution_count": 85,
      "outputs": []
    },
    {
      "cell_type": "code",
      "source": [
        "common_inrxns = find_common_interactions([pd1_network, pdL1_network, ctla4_network, cd80_network])\n",
        "\n",
        "print(len(common_inrxns))\n",
        "print(common_inrxns)\n",
        "\n",
        "common_df = pd.DataFrame(common_inrxns, columns=['Node1', 'Node2'])\n",
        "common_df.to_csv('common_interactions.tsv', index=False, sep='\\t')"
      ],
      "metadata": {
        "id": "ylIGUZ1StkCw"
      },
      "execution_count": null,
      "outputs": []
    },
    {
      "cell_type": "code",
      "source": [
        "common_nodes = find_common_in_col([pd1_degree, pdL1_degree, ctla4_degree, cd80_degree], '#node')\n",
        "\n",
        "print(len(common_nodes))\n",
        "print(common_nodes)\n",
        "\n",
        "common_nodes_df = pd.DataFrame(common_nodes, columns=['Common_nodes'])\n",
        "common_nodes_df.to_csv('common_nodes.tsv', index=False, sep='\\t')"
      ],
      "metadata": {
        "id": "l4s-_sfdvWJZ"
      },
      "execution_count": null,
      "outputs": []
    },
    {
      "cell_type": "code",
      "source": [
        "common_pathways = find_common_in_col([pd1_pathways, pdL1_pathways, ctla4_pathways, cd80_pathways], 'term description')\n",
        "\n",
        "print(len(common_pathways))\n",
        "print(common_pathways)\n",
        "\n",
        "common_pathways_df = pd.DataFrame(common_pathways, columns=['Common_pathways'])\n",
        "common_pathways_df.to_csv('common_pathways.tsv', index=False, sep='\\t')"
      ],
      "metadata": {
        "id": "INXYQ772xpQR"
      },
      "execution_count": null,
      "outputs": []
    },
    {
      "cell_type": "code",
      "source": [
        "common_hubs = find_common_hubs([pd1_degree, pdL1_degree, ctla4_degree, cd80_degree])\n",
        "\n",
        "print(len(common_hubs))\n",
        "print(common_hubs)\n",
        "\n",
        "common_hubs_df = pd.DataFrame(common_hubs, columns=['Common_hubs'])\n",
        "common_pathways_df.to_csv('common_hubs.tsv', index=False, sep='\\t')"
      ],
      "metadata": {
        "id": "_V57nPeKy5d5"
      },
      "execution_count": null,
      "outputs": []
    },
    {
      "cell_type": "code",
      "source": [
        "expression_responders = split_and_transpose(mrna, labels, 'ICB Response')[0]\n",
        "expression_non_responders = split_and_transpose(mrna, labels, 'ICB Response')[1]\n",
        "\n",
        "expression_responders.to_csv('expression_1.tsv', sep='\\t', index=False)\n",
        "expression_non_responders.to_csv('expression_0.tsv', sep='\\t', index=False)"
      ],
      "metadata": {
        "id": "MZJ4ydaR4GK5"
      },
      "execution_count": 88,
      "outputs": []
    }
  ]
}