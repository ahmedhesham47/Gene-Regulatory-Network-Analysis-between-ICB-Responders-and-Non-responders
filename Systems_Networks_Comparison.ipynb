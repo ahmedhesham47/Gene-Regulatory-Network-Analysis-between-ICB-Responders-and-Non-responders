{
  "nbformat": 4,
  "nbformat_minor": 0,
  "metadata": {
    "colab": {
      "provenance": [],
      "collapsed_sections": [
        "GgYnwGTcinrW",
        "cuLT7pT4iqfb",
        "VykngM1pjWfj"
      ],
      "authorship_tag": "ABX9TyP5MpNda3lWnai+gLUdJF0+",
      "include_colab_link": true
    },
    "kernelspec": {
      "name": "python3",
      "display_name": "Python 3"
    },
    "language_info": {
      "name": "python"
    }
  },
  "cells": [
    {
      "cell_type": "markdown",
      "metadata": {
        "id": "view-in-github",
        "colab_type": "text"
      },
      "source": [
        "<a href=\"https://colab.research.google.com/github/ahmedhesham47/Systems-Biology/blob/main/Systems_Networks_Comparison.ipynb\" target=\"_parent\"><img src=\"https://colab.research.google.com/assets/colab-badge.svg\" alt=\"Open In Colab\"/></a>"
      ]
    },
    {
      "cell_type": "markdown",
      "source": [
        "# **Importing Packages**"
      ],
      "metadata": {
        "id": "GgYnwGTcinrW"
      }
    },
    {
      "cell_type": "code",
      "execution_count": 12,
      "metadata": {
        "id": "hA6YQxF95yrd"
      },
      "outputs": [],
      "source": [
        "import numpy as np\n",
        "import pandas as pd\n",
        "import matplotlib.pyplot as plt\n",
        "import seaborn as sns"
      ]
    },
    {
      "cell_type": "markdown",
      "source": [
        "# **Importing Files**"
      ],
      "metadata": {
        "id": "cuLT7pT4iqfb"
      }
    },
    {
      "cell_type": "code",
      "source": [
        "# pd1_network = pd.read_csv('PD_1_network.tsv', sep='\\t')\n",
        "# pd1_degree = pd.read_csv('PD_1_degree.tsv', sep='\\t')\n",
        "# pd1_pathways = pd.read_csv('PD_1_RCTM.tsv', sep='\\t')\n",
        "\n",
        "# pdL1_network = pd.read_csv('PD_L1_network.tsv', sep='\\t')\n",
        "# pdL1_degree = pd.read_csv('PD_L1_degree.tsv', sep='\\t')\n",
        "# pdL1_pathways = pd.read_csv('PD_L1_RCTM.tsv', sep='\\t')\n",
        "\n",
        "# ctla4_network = pd.read_csv('CTLA_4_network.tsv', sep='\\t')\n",
        "# ctla4_degree = pd.read_csv('CTLA_4_degree.tsv', sep='\\t')\n",
        "# ctla4_pathways = pd.read_csv('CTLA_4_RCTM.tsv', sep='\\t')\n",
        "\n",
        "# cd80_network = pd.read_csv('CD80_network.tsv', sep='\\t')\n",
        "# cd80_degree = pd.read_csv('CD80_degree.tsv', sep='\\t')\n",
        "# cd80_pathways = pd.read_csv('CD80_RCTM.tsv', sep='\\t')\n",
        "\n",
        "# mrna = pd.read_csv('mrna_cont.tsv', sep='\\t')\n",
        "# labels = pd.read_csv('labels_df.tsv', sep='\\t')\n",
        "\n",
        "# ravi_mrna = pd.read_csv('filtered_expression_ravi.tsv', sep='\\t')\n",
        "# labels_ravi = pd.read_csv('labels_ravi.tsv', sep='\\t')\n",
        "\n",
        "lui_0 = pd.read_csv('lui_0_filtered.tsv', sep='\\t')\n",
        "lui_1 = pd.read_csv('lui_1_filtered.tsv', sep='\\t')\n",
        "lui_res_network = pd.read_csv('lui_regulatory_network_responders.tsv', sep='\\t')\n",
        "lui_non_res_network = pd.read_csv('lui_regulatory_network_non_responders.tsv', sep='\\t')\n",
        "nodes_res = pd.read_csv('nodes_responders_lui.csv', sep=',')\n",
        "nodes_non_res = pd.read_csv('nodes_nonresponders_lui.csv', sep=',')"
      ],
      "metadata": {
        "id": "nBWXEfxGraa2"
      },
      "execution_count": 27,
      "outputs": []
    },
    {
      "cell_type": "code",
      "source": [
        "pd1_network = pd1_network[['#node1', 'node2']]\n",
        "pdL1_network = pdL1_network[['#node1', 'node2']]\n",
        "ctla4_network = ctla4_network[['#node1', 'node2']]\n",
        "cd80_network = cd80_network[['#node1', 'node2']]\n",
        "\n",
        "pd1_degree = pd1_degree[['#node', 'node_degree']]\n",
        "pdL1_degree = pdL1_degree[['#node', 'node_degree']]\n",
        "ctla4_degree = ctla4_degree[['#node', 'node_degree']]\n",
        "cd80_degree = cd80_degree[['#node', 'node_degree']]"
      ],
      "metadata": {
        "id": "8sHxmwcptsio"
      },
      "execution_count": null,
      "outputs": []
    },
    {
      "cell_type": "markdown",
      "source": [
        "# **Helper Functions**"
      ],
      "metadata": {
        "id": "wLh9J4qgiuyb"
      }
    },
    {
      "cell_type": "code",
      "source": [
        "def find_common_interactions(list_of_dataframes):\n",
        "    tuple_sets = []\n",
        "\n",
        "    for df in list_of_dataframes:\n",
        "        tuples = {tuple(sorted(row)) for row in df.to_numpy()}\n",
        "        tuple_sets.append(tuples)\n",
        "\n",
        "    common_tuples = set.intersection(*tuple_sets)\n",
        "\n",
        "    return list(common_tuples)"
      ],
      "metadata": {
        "id": "ZAJw9RcQqgbB"
      },
      "execution_count": 3,
      "outputs": []
    },
    {
      "cell_type": "code",
      "source": [
        "def find_common_in_col(list_of_dataframes, column_name):\n",
        "    columns = []\n",
        "\n",
        "    for df in list_of_dataframes:\n",
        "        if column_name in df.columns:\n",
        "            columns.append(set(df[column_name]))\n",
        "\n",
        "    common_values = set.intersection(*columns)\n",
        "\n",
        "    return list(common_values)"
      ],
      "metadata": {
        "id": "N-Ss5KFjqyx4"
      },
      "execution_count": 4,
      "outputs": []
    },
    {
      "cell_type": "code",
      "source": [
        "def find_common_hubs(list_of_dataframes, degree_col_name, node_col_name, n_top=10):\n",
        "\n",
        "    top_nodes_sets = []\n",
        "\n",
        "    for df in list_of_dataframes:\n",
        "        sorted_df = df.sort_values(by=degree_col_name, ascending=False).head(n_top)\n",
        "        top_nodes = set(sorted_df[node_col_name])\n",
        "        top_nodes_sets.append(top_nodes)\n",
        "\n",
        "    common_nodes = set.intersection(*top_nodes_sets)\n",
        "\n",
        "    return list(common_nodes)"
      ],
      "metadata": {
        "id": "9AGk0InJq16p"
      },
      "execution_count": 35,
      "outputs": []
    },
    {
      "cell_type": "code",
      "source": [
        "def split_and_transpose(expression_df, labels_df, label_column_name):\n",
        "  expression_df = expression_df.set_index('Sample Identifier')\n",
        "  labels_df = labels_df.set_index('Sample Identifier')\n",
        "\n",
        "  expression_1 = expression_df.loc[labels_df['ICB Response'] == 1.0].transpose().reset_index()\n",
        "  expression_1.columns.name = None\n",
        "  expression_1 = expression_1.rename(columns={'index': 'Gene'})\n",
        "\n",
        "  expression_0 = expression_df.loc[labels_df['ICB Response'] == 0.0].transpose().reset_index()\n",
        "  expression_0.columns.name = None\n",
        "  expression_0 = expression_0.rename(columns={'index': 'Gene'})\n",
        "\n",
        "  return expression_1, expression_0"
      ],
      "metadata": {
        "id": "3QzF-L2L4opz"
      },
      "execution_count": 6,
      "outputs": []
    },
    {
      "cell_type": "markdown",
      "source": [
        "# **Comparing PD-1, PD-L1, CTLA-4, CD80 networks**"
      ],
      "metadata": {
        "id": "U8VgHbApiyrb"
      }
    },
    {
      "cell_type": "code",
      "source": [
        "common_inrxns = find_common_interactions([pd1_network, pdL1_network, ctla4_network, cd80_network])\n",
        "\n",
        "print(len(common_inrxns))\n",
        "print(common_inrxns)\n",
        "\n",
        "common_df = pd.DataFrame(common_inrxns, columns=['Node1', 'Node2'])\n",
        "common_df.to_csv('common_interactions.tsv', index=False, sep='\\t')"
      ],
      "metadata": {
        "id": "ylIGUZ1StkCw"
      },
      "execution_count": null,
      "outputs": []
    },
    {
      "cell_type": "code",
      "source": [
        "common_nodes = find_common_in_col([pd1_degree, pdL1_degree, ctla4_degree, cd80_degree], '#node')\n",
        "\n",
        "print(len(common_nodes))\n",
        "print(common_nodes)\n",
        "\n",
        "common_nodes_df = pd.DataFrame(common_nodes, columns=['Common_nodes'])\n",
        "common_nodes_df.to_csv('common_nodes.tsv', index=False, sep='\\t')"
      ],
      "metadata": {
        "id": "l4s-_sfdvWJZ"
      },
      "execution_count": null,
      "outputs": []
    },
    {
      "cell_type": "code",
      "source": [
        "common_pathways = find_common_in_col([pd1_pathways, pdL1_pathways, ctla4_pathways, cd80_pathways], 'term description')\n",
        "\n",
        "print(len(common_pathways))\n",
        "print(common_pathways)\n",
        "\n",
        "common_pathways_df = pd.DataFrame(common_pathways, columns=['Common_pathways'])\n",
        "common_pathways_df.to_csv('common_pathways.tsv', index=False, sep='\\t')"
      ],
      "metadata": {
        "id": "INXYQ772xpQR"
      },
      "execution_count": null,
      "outputs": []
    },
    {
      "cell_type": "code",
      "source": [
        "common_hubs = find_common_hubs([pd1_degree, pdL1_degree, ctla4_degree, cd80_degree])\n",
        "\n",
        "print(len(common_hubs))\n",
        "print(common_hubs)\n",
        "\n",
        "common_hubs_df = pd.DataFrame(common_hubs, columns=['Common_hubs'])\n",
        "common_pathways_df.to_csv('common_hubs.tsv', index=False, sep='\\t')"
      ],
      "metadata": {
        "id": "_V57nPeKy5d5"
      },
      "execution_count": null,
      "outputs": []
    },
    {
      "cell_type": "markdown",
      "source": [
        "# **Pre-processing and filtering Lui (cBioPortal) gene expression dataset to be ready for GENIE3**"
      ],
      "metadata": {
        "id": "VykngM1pjWfj"
      }
    },
    {
      "cell_type": "code",
      "source": [
        "lui_responders = pd.read_csv('expression_1.tsv', sep='\\t', index_col=0)\n",
        "lui_non_responders = pd.read_csv('expression_0.tsv', sep='\\t', index_col=0)\n",
        "cytokine_genes = pd.read_csv('cytokine_genes.txt', sep='\\t', header=0)\n",
        "t_cell_genes = pd.read_csv('T cell genes.txt', sep='\\t', header=0)\n",
        "cytokine_genes = list(cytokine_genes['Symbol'])\n",
        "t_cell_genes = list(t_cell_genes['Symbol'])\n",
        "unique_union = set(cytokine_genes + t_cell_genes)"
      ],
      "metadata": {
        "id": "QkHRIoXg2ebu"
      },
      "execution_count": null,
      "outputs": []
    },
    {
      "cell_type": "code",
      "source": [
        "lui_responders = lui_responders.loc[lui_responders.index.isin(unique_union)]\n",
        "\n",
        "lui_non_responders = lui_non_responders.loc[lui_non_responders.index.isin(unique_union)]\n",
        "\n",
        "lui_responders.to_csv('lui_1_filtered.tsv', sep='\\t')\n",
        "lui_non_responders.to_csv('lui_0_filtered.tsv', sep='\\t')"
      ],
      "metadata": {
        "id": "z8YW5Kra3X3a"
      },
      "execution_count": null,
      "outputs": []
    },
    {
      "cell_type": "markdown",
      "source": [
        "# **Comparing GRNs between ICB responders and non-responders**"
      ],
      "metadata": {
        "id": "IrXbCpH7jgbU"
      }
    },
    {
      "cell_type": "code",
      "source": [
        "# lui_res_network\n",
        "lui_non_res_network\n",
        "\n",
        "plt.figure(figsize=(10, 6))\n",
        "\n",
        "sns.histplot(lui_res_network['weight'], color=\"blue\", label='Responders Weights Distribution', kde=True)\n",
        "sns.histplot(lui_non_res_network['weight'], color=\"red\", label='Non-Responders Weights Distribution', kde=True)\n",
        "\n",
        "plt.title('Distribution of Weight Values')\n",
        "plt.legend()\n",
        "\n",
        "plt.savefig('weights_distribution.png', format='png', bbox_inches='tight')\n",
        "plt.show()"
      ],
      "metadata": {
        "id": "kqF_PRGqjk1U"
      },
      "execution_count": null,
      "outputs": []
    },
    {
      "cell_type": "code",
      "source": [
        "lui_res_network\n",
        "\n",
        "common_inrxns = find_common_interactions([lui_res_network.iloc[:, :-1], lui_non_res_network.iloc[:, :-1]])\n",
        "\n",
        "print(len(common_inrxns))\n",
        "print(common_inrxns)"
      ],
      "metadata": {
        "id": "z4G0FODYttf0"
      },
      "execution_count": null,
      "outputs": []
    },
    {
      "cell_type": "code",
      "source": [
        "common_nodes = find_common_in_col([nodes_res, nodes_non_res], 'name')\n",
        "\n",
        "print(len(common_nodes))\n",
        "print(common_nodes)"
      ],
      "metadata": {
        "id": "PlOQf0qOuOAG"
      },
      "execution_count": null,
      "outputs": []
    },
    {
      "cell_type": "code",
      "source": [
        "common_hubs = find_common_hubs([nodes_res, nodes_non_res], 'EdgeCount', 'name', 10)\n",
        "\n",
        "print(len(common_hubs))\n",
        "print(common_hubs)"
      ],
      "metadata": {
        "id": "lbtxllNEwKp1"
      },
      "execution_count": null,
      "outputs": []
    }
  ]
}